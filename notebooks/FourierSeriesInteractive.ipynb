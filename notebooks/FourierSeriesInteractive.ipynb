{
 "cells": [
  {
   "cell_type": "code",
   "execution_count": 1,
   "metadata": {},
   "outputs": [],
   "source": [
    "#PROBLEMS : Chapter 1"
   ]
  },
  {
   "cell_type": "markdown",
   "metadata": {},
   "source": [
    "1 Expand the following function in Fourier series:\n",
    "\n",
    "\n",
    "a) $f(x) = e^{ax} \\hspace{0.5cm} (-\\pi<x<\\pi)$ where $a \\neq 0$;\n",
    "\n",
    "$\\hspace{1cm} a_n = \\int_{-\\pi}^{\\pi} e^{ax} \\cos(nx) dx$\n",
    "$\\hspace{1cm} b_n = \\int_{-\\pi}^{\\pi} e^{ax} \\sin(nx) dx$\n",
    "\n",
    "NOTE\n",
    "\n",
    "$$\\int e^{ax} \\cos(bx) dx = \\frac{e^{ax}}{a^2+b^2}\\left(a\\cos(bx)+b\\sin(bx)\\right)$$\n",
    "\n",
    "and\n",
    "\n",
    "$$\\int e^{ax} \\sin(bx) dx = \\frac{e^{ax}}{a^2+b^2}\\left(a\\sin(bx)-b\\cos(bx)\\right)$$\n",
    "\n",
    "therefore\n",
    "\n",
    "$\\hspace{1cm} a_n = \\frac{e^{a\\pi}-e^{-a\\pi}}{\\pi} \\frac{a (-1)^{n}}{a^2+n^2}$\n",
    "                                   \n",
    "$\\hspace{1cm} b_n = \\frac{e^{a\\pi}-e^{-a\\pi}}{\\pi} \\frac{-n (-1)^{n}}{a^2+n^2}$\n",
    "\n",
    "$$s_n(x) = \\frac{e^{a\\pi}-e^{-a\\pi}}{\\pi}\\left[\\frac{1}{2a}+\\sum_{n}^\\infty \\frac{(-1)^n}{a^2+n^2}(a\\cos(nx)-n\\sin(nx))\\right]$$\n",
    "\n",
    "--------------------------------------------------------------------------------\n",
    "\n",
    "b) $f(x) = \\cos(ax) \\hspace{0.5cm} (-\\pi<x<\\pi)$ where $a$ is not an integer;\n",
    "\n",
    "$a_n =\\frac{2 \\left(-1\\right)^{n} a \\sinh{\\left (\\pi a \\right )}}{\\pi \\left(a^{2} + n^{2}\\right)}$\n",
    "\n",
    "$b_n =\\frac{\\left(-1\\right)^{n} n \\left(- e^{2 \\pi a} + 1\\right)}{\\pi \\left(a^{2} + n^{2}\\right) e^{\\pi a}}$\n",
    "\n",
    "\n",
    "$$s_m(x) = \\frac{a_0}{2} + \\sum_{n=1}^{\\inf} \\left(a_n \\cos(nx) + b_n \\sin(nx)\\right)$$\n",
    "\n",
    "--------------------------------------------------------------------------------\n",
    "\n",
    "c) $f(x) = \\sin(ax) \\hspace{0.5cm} (-\\pi<x<\\pi)$ where $a$ is not an integer;\n",
    "\n",
    "\n",
    "$a_n =\\frac{2 \\left(-1\\right)^{n} a \\sinh{\\left (\\pi a \\right )}}{\\pi \\left(a^{2} + n^{2}\\right)}$\n",
    "\n",
    "$b_n =\\frac{\\left(-1\\right)^{n} n \\left(- e^{2 \\pi a} + 1\\right)}{\\pi \\left(a^{2} + n^{2}\\right) e^{\\pi a}}$\n",
    "\n",
    "--------------------------------------------------------------------------------\n",
    "\n",
    "d) $f(x) = \\left\\{ \\begin{array}{lll} 0 & \\text{for} & -\\pi<x<0, \\\\ x & \\text{for} &0\\leq x < \\pi \\\\ \\end{array}\\right.$"
   ]
  },
  {
   "cell_type": "markdown",
   "metadata": {},
   "source": [
    "2 Using the expansion of Prob. 1b, show that\n",
    "\n",
    "$\\frac{1}{\\sin(z)} = \\frac{1}{z} + \\sum_{n=1}^{\\inf}(-1)^{n}\\left[\\frac{1}{z-n\\pi}+\\frac{1}{z+n\\pi}\\right]$\n",
    "\n",
    "$\\cos(z) = \\frac{1}{z} + \\sum_{n=1}^{\\inf}(-1)^{n}\\left[\\frac{1}{z-n\\pi}+\\frac{1}{z+n\\pi}\\right]$\n",
    "\n",
    "where $z$ is any number which is not a multiple of $\\pi$"
   ]
  },
  {
   "cell_type": "markdown",
   "metadata": {},
   "source": [
    "3 Using the expansion of Prob. 1a, expand the following functions in Fourier series:\n",
    "\n",
    "a) The hyperbolic cosine\n",
    "\n",
    "$\\cosh(x)=\\frac{e^{ax}+e^{-ax}}{2} \\hspace{1cm} (-\\pi \\leq x \\leq \\pi)$\n",
    "\n",
    "a) The hyperbolic sine\n",
    "\n",
    "$\\sinh(x)=\\frac{e^{ax}-e^{-ax}}{2} \\hspace{1cm} (-\\pi \\leq x \\leq \\pi)$"
   ]
  },
  {
   "cell_type": "markdown",
   "metadata": {},
   "source": [
    "4 Using the expansion of Prob. 1a, expand the following functions in Fourier series:\n",
    "\n",
    "a) $ f(X) = \\sin(ax) \\hspace{0.5cm}(0 \\leq x \\leq \\pi), $ where  $a$ is not an integer;\n",
    "\n",
    "b) $ f(x) = \\left\\{ \\begin{array}{lll} 1 & \\text{for} & (0  \\leq x <     h  ) \\\\\n",
    "                                       0 & \\text{for} & ( h <    x \\leq \\pi ) \\\\ \\end{array}\\right.$\n",
    "\n",
    "b) $ f(x) = \\left\\{ \\begin{array}{lll} 1-\\frac{1}{2h} & \\text{for} & (0  \\leq x <    2h  ) \\\\\n",
    "                                       0              & \\text{for} & (2h <    x \\leq \\pi ) \\\\ \\end{array}\\right.$ "
   ]
  },
  {
   "cell_type": "markdown",
   "metadata": {},
   "source": [
    "5 Expand the following functions in Fourier cosine series:\n",
    "\n",
    "a) $ f(x) = \\left\\{ \\begin{array}{lll} \\sin{\\pi x}{l} & \\text{for} & (0           \\leq x <    \\frac{l}{2}) \\\\\n",
    "                                       0              & \\text{for} & (\\frac{l}{2} <    x \\leq l          ) \\\\ \\end{array}\\right.$\n",
    "\n",
    "\n",
    "b) $ f(x) = \\left\\{ \\begin{array}{rll} \\sin{\\pi x}{l} & \\text{for} & (0           \\leq x <    \\frac{l}{2}) \\\\\n",
    "                                      -\\sin{\\pi x}{l} & \\text{for} & (\\frac{l}{2} <    x \\leq l          ) \\\\ \\end{array}\\right.$\n",
    "                                     \n",
    "\n"
   ]
  },
  {
   "cell_type": "markdown",
   "metadata": {},
   "source": [
    "6 Expand the periodic function:\n",
    "\n",
    "$$f(x)=\\left|\\cos\\frac{\\pi x}{l}\\right|, \\hspace{0.5cm} l=\\text{const}, \\hspace{0.5cm}l>0$$\n",
    "\n",
    "in Fourier series."
   ]
  },
  {
   "cell_type": "markdown",
   "metadata": {},
   "source": [
    "7 Let $f(x)$ have a period $2\\pi$ and let $\\left|f(x)-f(y)\\right| \\leq c \\left|x-y\\right|^{\\alpha}$, for some constants, $c>0, \\alpha>0$, and for all $x$ and $y$.  [if $f(x)$ obeys this inequality, it is said to be a Holder ( or Lipshitz) condition of order $\\alpha$.]  Show that\n",
    "\n",
    "$$\\left|a_n\\right| \\leq \\frac{c\\pi^{\\alpha}}{n^{\\alpha}}, \\hspace{0.5cm} \\left|b_n\\right| \\leq \\frac{c\\pi^{\\alpha}}{n^{\\alpha}}$$,\n",
    "\n",
    "where $a_n$ and $b_n$ are for Fourier coefficients of $f(x)$"
   ]
  },
  {
   "cell_type": "markdown",
   "metadata": {},
   "source": [
    "8 Expand the following function in Fourier sine series:\n",
    "\n",
    "$\\begin{array}{lll} \\text{a)} & f(x) = \\cos(x) & (0    < x < \\pi) \\\\\n",
    "                    \\text{b)} & f(x) = x^3 & (0 \\leq x < \\pi) \\\\ \\end{array}$"
   ]
  },
  {
   "cell_type": "markdown",
   "metadata": {},
   "source": [
    "9 Let $f(x)$ have a period $2\\pi$ defined for $-\\pi<x<\\pi$.  Let $f(x)$ have the Fourier Series\n",
    "\n",
    "$$\\frac{a_0}{2} + \\sum_{n=1}^{\\inf}(-1)^{n}\\left(a_n \\cos(nx) + b_n \\sin(nx)\\right)$$\n",
    "\n",
    "and let\n",
    "\n",
    "$$f_e(x) =  \\frac{f(x)+f(-x)}{2}, f_o(x) =  \\frac{f(x)-f(-x)}{2}$$,\n",
    "\n",
    "respectively.  Show that the function $f(x-\\pi)$ has the Fourier series\n",
    "\n",
    "$$\\frac{a_0}{2} + \\sum_{n=1}^{\\inf}(-1)^{n}(-1)^{n} \\left(a_n \\cos(nx) + b_n \\sin(nx)\\right)$$"
   ]
  },
  {
   "cell_type": "markdown",
   "metadata": {},
   "source": [
    "10 Sum the series\n",
    "\n",
    "a) $\\sum_{n=1}^{\\inf}           \\frac{\\sin(nx)}{n}$;\n",
    "\n",
    "b) $\\sum_{n=1}^{\\inf} (-1)^{n}  \\frac{\\sin(nx)}{n}$;\n",
    "\n",
    "c) $\\sum_{n=1}^{\\inf}           \\frac{\\cos(nx)}{n^2}$;\n",
    "\n",
    "d) $\\sum_{n=1}^{\\inf} (-1)^{n}  \\frac{\\cos(nx)}{n^2}$;\n",
    "\n",
    "by using Example 8 of Sec. 13 and the results of the preceding problem."
   ]
  },
  {
   "cell_type": "markdown",
   "metadata": {},
   "source": [
    "11 Find the Sum of each of the following numerical Series by evaluating at a suitable point a Fourier series given in the text or in the problems:\n",
    "\n",
    "a) $               \\sum_{n=1}^{\\inf}          \\frac{1}{(2n-1)^{2}}$;\n",
    "\n",
    "b) $\\frac{1}{2a} + \\sum_{n=1}^{\\inf} (-1)^{n} \\frac{1}{(n^{2} + a^{2})^{2}}$;\n",
    "\n",
    "c) $\\frac{1}{2}  + \\sum_{n=1}^{\\inf}          \\frac{\\sinh(nh)}{nh}$;\n",
    "\n",
    "d) $\\frac{1}{2}  + \\sum_{n=1}^{\\inf} \\left(   \\frac{\\sinh(nh)}{nh} \\right)^{2}$;\n"
   ]
  },
  {
   "cell_type": "markdown",
   "metadata": {},
   "source": [
    "12 Show that the Fourier series for the function $f(x) = x$ on the interval $-\\pi<x<\\pi$ does not converge uniformly, but that the Fourier series for the function $f(x) = x^2$ does converge uniformly.  Find the Fourier series for $f(x) = x^4$ by integrating the Fourier series for $f(x) = x^2$ between the limits of $0$ and $x$"
   ]
  },
  {
   "cell_type": "code",
   "execution_count": 8,
   "metadata": {},
   "outputs": [],
   "source": [
    "import math\n",
    "import numpy as np\n",
    "import scipy as sp\n",
    "import matplotlib.pyplot as plt\n",
    "import math\n",
    "import ipywidgets as widgets\n",
    "from pylab import *\n",
    "from ipywidgets import interact, interactive, fixed, interact_manual\n",
    "from IPython.display import display, Math, Latex\n",
    "from scipy.integrate import quad\n",
    "from scipy import integrate\n",
    "from sympy import *\n",
    "\n",
    "PI = np.pi"
   ]
  },
  {
   "cell_type": "code",
   "execution_count": 3,
   "metadata": {},
   "outputs": [],
   "source": [
    "# Given a function f(x) defined between a<x<b, and a range t.  \n",
    "# This routine will return the periodic extension of the function f(t)\n",
    "def nPeriodic(f,t,x0,x1):\n",
    "    period = x1-x0\n",
    "    return f((t-x1) % period + x0)\n",
    "\n",
    "# an coeficients with integration approximation\n",
    "def an(x,n):\n",
    "    def integrand(x,n):\n",
    "        L = x1-x0\n",
    "        return f(x) * np.cos(2*n*PI*x/L)\n",
    "    \n",
    "    options={'limit':10000}\n",
    "    integral = sp.integrate.quad(integrand, x0, x1, args=(n), limit=100)\n",
    "    return (2.0/L) * integral[0]\n",
    "\n",
    "# bn coeficients with integration approximation\n",
    "def bn(x,n):\n",
    "    L = x1-x0\n",
    "    def integrand(x,n):\n",
    "        return f(x) * np.sin(2*n*PI*x/L)\n",
    "    \n",
    "    options={'limit':100000}\n",
    "    integral = sp.integrate.quad(integrand, x0, x1, args=(n), limit=100)\n",
    "\n",
    "    return  (2.0/L) * integral[0]  \n",
    "\n",
    "\n",
    "def FS(x,t,Kmax):\n",
    "    L = x1-x0\n",
    "    sm = np.ones(size(t))\n",
    "    sm = sm * (an(x,0)/2.0)\n",
    "    for k in range(1,Kmax):\n",
    "        sm = sm + an(x,k)*np.cos(2*PI*k*t/L) + bn(x,k)*np.sin(2*PI*k*t/L)\n",
    "    return sm\n",
    "\n",
    "def FourierSeries(f,x0,x1,dx,t0,tn,dt):\n",
    "\n",
    "    t = np.linspace(t0,tn,dt)\n",
    "    x = np.linspace(x0,x1,dx)\n",
    "\n",
    "    %matplotlib inline\n",
    "\n",
    "    def pltFS(Kmax):\n",
    "        ymin = min(nPeriodic(f,t,x0,x1))\n",
    "        ymax = max(nPeriodic(f,t,x0,x1))\n",
    "        \n",
    "        print(\"k = \", Kmax)\n",
    "        plt.figure(1)\n",
    "        plt.subplot(211)\n",
    "        plt.plot(t, FS(x,t,Kmax), t0, tn, label = 'k=')\n",
    "        plt.plot(t, nPeriodic(f,t,x0,x1), t0, tn, color='k',linewidth=1.0)\n",
    "        plt.title('Fourier Series $f(x) = e^{ax}, -\\pi < x < \\pi$')\n",
    "        plt.legend()\n",
    "        plt.xticks([-np.pi, 0, np.pi, 2*np.pi, 3*np.pi, 4*np.pi],\n",
    "              [r'$-\\pi$', r'$0$', r'$\\pi$', r'$2\\pi$', r'$3\\pi$', r'$4\\pi$'])\n",
    "        \n",
    "        plt.ylim([ymin-0.5, ymax+0.5])\n",
    "        \n",
    "        plt.figure(2)\n",
    "        plt.subplot(211)\n",
    "        plt.plot(t, nPeriodic(f,t,x0,x1), t0, tn, color='k',linewidth=1.0)\n",
    "    \n",
    "        for k in range(Kmax-3,Kmax):\n",
    "            plt.plot(t, FS(x,t,k), t0, tn, linewidth=1.0,label='k='+str(k))\n",
    "            \n",
    "            #plt.plot(t, nPeriodic(f,t,x0,x1), t0, tn, color='k',linewidth=1.0)\n",
    "            plt.title('Fourier Series $f(x) = e^{ax}, -\\pi < x < \\pi$')\n",
    "            plt.xticks([-np.pi, 0, np.pi, 2*np.pi, 3*np.pi, 4*np.pi],\n",
    "                       [r'$-\\pi$', r'$0$', r'$\\pi$', r'$2\\pi$', r'$3\\pi$', r'$4\\pi$'])\n",
    "            plt.legend()\n",
    "            plt.ylim([ymin-0.5, ymax+0.5])\n",
    "                    \n",
    "        print(\"k = \", Kmax-2, '->', Kmax)\n",
    "        plt.show(block_collapse)\n",
    "\n",
    "    interact(pltFS, Kmax =(3,40,1))\n",
    "    \n",
    "    return\n",
    "\n",
    "# Generic Harmoic Series, Analytical coeficients\n",
    "def FindCoef(f,x0,x1):\n",
    "\n",
    "    n = symbols('n', integer=True,  positive=True)\n",
    "    k = symbols('k', integer=True,  positive=True)\n",
    "    \n",
    "    L = x1-x0\n",
    "    \n",
    "    #g = -1\n",
    "    #f = Piecewise( (0, x<0), (f, x>=0), (g, True))\n",
    "    #print(piecewise_fold(x*f))\n",
    "\n",
    "    #f = exp(a*x)\n",
    "\n",
    "    a_0 = (2/L) * integrate(f, (x,x0,x1))\n",
    "    a_n = (2/L) * integrate(f*cos(2*n*pi*x/L), (x,x0,x1))\n",
    "    b_n = (2/L) * integrate(f*sin(2*n*pi*x/L), (x,x0,x1))\n",
    "\n",
    "    init_printing()\n",
    "\n",
    "    print(\" \")\n",
    "    print(\"Code Form\")\n",
    "    print(\"a_0 =\", simplify(a_0))\n",
    "    print(\"a_n =\", simplify(a_n))\n",
    "    print(\"b_n =\", simplify(b_n))\n",
    "\n",
    "    print(\" \")\n",
    "    print(\"Latex Code Form\")\n",
    "    an = 'a_n =' + latex(simplify(a_n))\n",
    "    bn = 'b_n =' + latex(simplify(b_n))\n",
    "    print(latex(an))\n",
    "    print(latex(bn))\n",
    "\n",
    "    print(\" \")\n",
    "    print(\"Latex Form\")\n",
    "    display(Math(latex(an)))\n",
    "    display(Math(latex(bn)))\n",
    "    \n",
    "    print(\" \")\n",
    "    print(\"Solution\")\n",
    "    an = latex(simplify(a_n)) \n",
    "    bn = latex(simplify(b_n)) \n",
    "    sm = 's(x) = a_0/\\pi + \\sum_{n=0}^{n} ' + an + 'cos(nx) +' + bn + 'sin(nx)'\n",
    "    display(Math(latex(sm)))\n",
    "\n",
    "\n",
    "# this is anual for now. FIXME :: make automatic.\n",
    "def AnalyticalFS(t,Kmax):\n",
    "    fs = np.zeros(size(dt))\n",
    "    fs = fs + 0\n",
    "    for k in range(1,Kmax):\n",
    "        #fs = fs + 2/(pi*k**2)+((-2)**k-1)*cos(k*t)\n",
    "        #fs = fs + (2.0*(-1)**(k+1))/(pi*k) * sin(k*t)\n",
    "        #fs = fs + 4*(-1)**k/k**2 * cos(k*t)\n",
    "        fs = fs + (-2*(-1)**k/k) * sin(k*t)\n",
    "    return fs\n"
   ]
  },
  {
   "cell_type": "code",
   "execution_count": 9,
   "metadata": {},
   "outputs": [
    {
     "data": {
      "application/vnd.jupyter.widget-view+json": {
       "model_id": "f74ea284a45c44e8852b86e6c44afac3",
       "version_major": 2,
       "version_minor": 0
      },
      "text/plain": [
       "interactive(children=(IntSlider(value=21, description='Kmax', max=40, min=3), Output()), _dom_classes=('widget…"
      ]
     },
     "metadata": {},
     "output_type": "display_data"
    },
    {
     "name": "stdout",
     "output_type": "stream",
     "text": [
      " \n",
      "Code Form\n",
      "a_0 = 2*sinh(pi*a)/(pi*a)\n",
      "a_n = 2*(-1)**n*a*sinh(pi*a)/(pi*(a**2 + n**2))\n",
      "b_n = -2*(-1)**n*n*sinh(pi*a)/(pi*(a**2 + n**2))\n",
      " \n",
      "Latex Code Form\n",
      "a_n =\\frac{2 \\left(-1\\right)^{n} a \\sinh{\\left (\\pi a \\right )}}{\\pi \\left(a^{2} + n^{2}\\right)}\n",
      "b_n =- \\frac{2 \\left(-1\\right)^{n} n \\sinh{\\left (\\pi a \\right )}}{\\pi \\left(a^{2} + n^{2}\\right)}\n",
      " \n",
      "Latex Form\n"
     ]
    },
    {
     "data": {
      "text/latex": [
       "$\\displaystyle a_n =\\frac{2 \\left(-1\\right)^{n} a \\sinh{\\left (\\pi a \\right )}}{\\pi \\left(a^{2} + n^{2}\\right)}$"
      ],
      "text/plain": [
       "<IPython.core.display.Math object>"
      ]
     },
     "metadata": {},
     "output_type": "display_data"
    },
    {
     "data": {
      "text/latex": [
       "$\\displaystyle b_n =- \\frac{2 \\left(-1\\right)^{n} n \\sinh{\\left (\\pi a \\right )}}{\\pi \\left(a^{2} + n^{2}\\right)}$"
      ],
      "text/plain": [
       "<IPython.core.display.Math object>"
      ]
     },
     "metadata": {},
     "output_type": "display_data"
    },
    {
     "name": "stdout",
     "output_type": "stream",
     "text": [
      " \n",
      "Solution\n"
     ]
    },
    {
     "data": {
      "text/latex": [
       "$\\displaystyle s(x) = a_0/\\pi + \\sum_{n=0}^{n} \\frac{2 \\left(-1\\right)^{n} a \\sinh{\\left (\\pi a \\right )}}{\\pi \\left(a^{2} + n^{2}\\right)}cos(nx) +- \\frac{2 \\left(-1\\right)^{n} n \\sinh{\\left (\\pi a \\right )}}{\\pi \\left(a^{2} + n^{2}\\right)}sin(nx)$"
      ],
      "text/plain": [
       "<IPython.core.display.Math object>"
      ]
     },
     "metadata": {},
     "output_type": "display_data"
    }
   ],
   "source": [
    "##### Problem 1.a\n",
    "\n",
    "# periodic function which we compute the Fourier Series\n",
    "def f(x):\n",
    "    a  = 1\n",
    "    fx = np.exp(a*x)\n",
    "    return fx\n",
    "\n",
    "# the start and end points for the periodic function\n",
    "# dx is the number of points for numerical integration\n",
    "x0 = -PI\n",
    "x1 =  PI\n",
    "dx = 100\n",
    "\n",
    "L =  x1-x0\n",
    "\n",
    "\n",
    "# The range of values along the 'x' axis to plt and number \n",
    "# of points dt.\n",
    "t0 = -1.0*PI\n",
    "tn =  4.0*PI\n",
    "dt =  100\n",
    "    \n",
    "# plot a fourier sieries with a general nMax with slide bar\n",
    "FourierSeries(f,x0,x1,dx,t0,tn,dt)\n",
    "\n",
    "# analytical solution for the n = 2 -> 7\n",
    "a = symbols('a', integer=False, positive=True)\n",
    "x = Symbol('x')\n",
    "FindCoef(exp(x*a),-pi,pi)\n",
    "\n",
    "\n"
   ]
  },
  {
   "cell_type": "code",
   "execution_count": 5,
   "metadata": {},
   "outputs": [
    {
     "data": {
      "application/vnd.jupyter.widget-view+json": {
       "model_id": "e70446bb5e7d4f75919bdfbcfb3a3ec8",
       "version_major": 2,
       "version_minor": 0
      },
      "text/plain": [
       "interactive(children=(IntSlider(value=21, description='Kmax', max=40, min=3), Output()), _dom_classes=('widget…"
      ]
     },
     "metadata": {},
     "output_type": "display_data"
    },
    {
     "name": "stdout",
     "output_type": "stream",
     "text": [
      " \n",
      "Code Form\n",
      "a_0 = 2*sin(pi*a)/(pi*a)\n",
      "a_n = 2*(-1)**n*a*sin(pi*a)/(pi*(a**2 - n**2))\n",
      "b_n = 0\n",
      " \n",
      "Latex Code Form\n",
      "a_n =\\frac{2 \\left(-1\\right)^{n} a \\sin{\\left (\\pi a \\right )}}{\\pi \\left(a^{2} - n^{2}\\right)}\n",
      "b_n =0\n",
      " \n",
      "Latex Form\n"
     ]
    },
    {
     "data": {
      "text/latex": [
       "$\\displaystyle a_n =\\frac{2 \\left(-1\\right)^{n} a \\sin{\\left (\\pi a \\right )}}{\\pi \\left(a^{2} - n^{2}\\right)}$"
      ],
      "text/plain": [
       "<IPython.core.display.Math object>"
      ]
     },
     "metadata": {},
     "output_type": "display_data"
    },
    {
     "data": {
      "text/latex": [
       "$\\displaystyle b_n =0$"
      ],
      "text/plain": [
       "<IPython.core.display.Math object>"
      ]
     },
     "metadata": {},
     "output_type": "display_data"
    },
    {
     "name": "stdout",
     "output_type": "stream",
     "text": [
      " \n",
      "Solution\n"
     ]
    },
    {
     "data": {
      "text/latex": [
       "$\\displaystyle s(x) = a_0/\\pi + \\sum_{n=0}^{n} \\frac{2 \\left(-1\\right)^{n} a \\sin{\\left (\\pi a \\right )}}{\\pi \\left(a^{2} - n^{2}\\right)}cos(nx) +0sin(nx)$"
      ],
      "text/plain": [
       "<IPython.core.display.Math object>"
      ]
     },
     "metadata": {},
     "output_type": "display_data"
    }
   ],
   "source": [
    "# Problem 1.b\n",
    "\n",
    "# periodic function which we compute the Fourier Series\n",
    "def f(x):\n",
    "    a  = 1\n",
    "    fx = np.cos(a*x)\n",
    "    return fx\n",
    "\n",
    "# the start and end points for the periodic function\n",
    "# dx is the number of points for numerical integration\n",
    "x0 = -PI\n",
    "x1 =  PI\n",
    "dx = 100\n",
    "\n",
    "L =  x1-x0\n",
    "\n",
    "###########################################################\n",
    "# The range of values along the 'x' axis to plt and number \n",
    "# of points dt.\n",
    "t0 = -1.0*PI\n",
    "tn =  4.0*PI\n",
    "dt =  100\n",
    "    \n",
    "# plot a fourier sieries with a general nMax with slide bar\n",
    "FourierSeries(f,x0,x1,dx,t0,tn,dt)\n",
    "\n",
    "# analytical solution for the n = 2 -> 7\n",
    "a = symbols('a', integer=False, positive=True)\n",
    "x = Symbol('x')\n",
    "FindCoef(cos(x*a),-pi,pi)\n"
   ]
  },
  {
   "cell_type": "code",
   "execution_count": 6,
   "metadata": {},
   "outputs": [
    {
     "data": {
      "application/vnd.jupyter.widget-view+json": {
       "model_id": "c3b807e575c744a0a47fb870ef1a1137",
       "version_major": 2,
       "version_minor": 0
      },
      "text/plain": [
       "interactive(children=(IntSlider(value=21, description='Kmax', max=40, min=3), Output()), _dom_classes=('widget…"
      ]
     },
     "metadata": {},
     "output_type": "display_data"
    },
    {
     "name": "stdout",
     "output_type": "stream",
     "text": [
      " \n",
      "Code Form\n",
      "a_0 = 2*sinh(pi*a)/(pi*a)\n",
      "a_n = 2*(-1)**n*a*sinh(pi*a)/(pi*(a**2 + n**2))\n",
      "b_n = -2*(-1)**n*n*sinh(pi*a)/(pi*(a**2 + n**2))\n",
      " \n",
      "Latex Code Form\n",
      "a_n =\\frac{2 \\left(-1\\right)^{n} a \\sinh{\\left (\\pi a \\right )}}{\\pi \\left(a^{2} + n^{2}\\right)}\n",
      "b_n =- \\frac{2 \\left(-1\\right)^{n} n \\sinh{\\left (\\pi a \\right )}}{\\pi \\left(a^{2} + n^{2}\\right)}\n",
      " \n",
      "Latex Form\n"
     ]
    },
    {
     "data": {
      "text/latex": [
       "$\\displaystyle a_n =\\frac{2 \\left(-1\\right)^{n} a \\sinh{\\left (\\pi a \\right )}}{\\pi \\left(a^{2} + n^{2}\\right)}$"
      ],
      "text/plain": [
       "<IPython.core.display.Math object>"
      ]
     },
     "metadata": {},
     "output_type": "display_data"
    },
    {
     "data": {
      "text/latex": [
       "$\\displaystyle b_n =- \\frac{2 \\left(-1\\right)^{n} n \\sinh{\\left (\\pi a \\right )}}{\\pi \\left(a^{2} + n^{2}\\right)}$"
      ],
      "text/plain": [
       "<IPython.core.display.Math object>"
      ]
     },
     "metadata": {},
     "output_type": "display_data"
    },
    {
     "name": "stdout",
     "output_type": "stream",
     "text": [
      " \n",
      "Solution\n"
     ]
    },
    {
     "data": {
      "text/latex": [
       "$\\displaystyle s(x) = a_0/\\pi + \\sum_{n=0}^{n} \\frac{2 \\left(-1\\right)^{n} a \\sinh{\\left (\\pi a \\right )}}{\\pi \\left(a^{2} + n^{2}\\right)}cos(nx) +- \\frac{2 \\left(-1\\right)^{n} n \\sinh{\\left (\\pi a \\right )}}{\\pi \\left(a^{2} + n^{2}\\right)}sin(nx)$"
      ],
      "text/plain": [
       "<IPython.core.display.Math object>"
      ]
     },
     "metadata": {},
     "output_type": "display_data"
    }
   ],
   "source": [
    "##### Problem 1.c\n",
    "\n",
    "# periodic function which we compute the Fourier Series\n",
    "def f(x):\n",
    "    a  = 1.3\n",
    "    fx = np.sin(a*x)\n",
    "    return fx\n",
    "\n",
    "# the start and end points for the periodic function\n",
    "# dx is the number of points for numerical integration\n",
    "x0 = -PI\n",
    "x1 =  PI\n",
    "dx = 100\n",
    "\n",
    "L =  x1-x0\n",
    "\n",
    "\n",
    "# The range of values along the 'x' axis to plt and number \n",
    "# of points dt.\n",
    "t0 = -1.0*PI\n",
    "tn =  4.0*PI\n",
    "dt =  100\n",
    "    \n",
    "# plot a fourier sieries with a general nMax with slide bar\n",
    "FourierSeries(f,x0,x1,dx,t0,tn,dt)\n",
    "\n",
    "# analytical solution for the n = 2 -> 7\n",
    "a = symbols('a', integer=False, positive=True)\n",
    "x = Symbol('x')\n",
    "FindCoef(exp(x*a),-pi,pi)\n"
   ]
  },
  {
   "cell_type": "code",
   "execution_count": 7,
   "metadata": {},
   "outputs": [
    {
     "data": {
      "application/vnd.jupyter.widget-view+json": {
       "model_id": "f99aa99869d443318e7f393af5f7ffc2",
       "version_major": 2,
       "version_minor": 0
      },
      "text/plain": [
       "interactive(children=(IntSlider(value=21, description='Kmax', max=40, min=3), Output()), _dom_classes=('widget…"
      ]
     },
     "metadata": {},
     "output_type": "display_data"
    },
    {
     "name": "stdout",
     "output_type": "stream",
     "text": [
      " \n",
      "Code Form\n",
      "a_0 = 2*sinh(pi*a)/(pi*a)\n",
      "a_n = 2*(-1)**n*a*sinh(pi*a)/(pi*(a**2 + n**2))\n",
      "b_n = -2*(-1)**n*n*sinh(pi*a)/(pi*(a**2 + n**2))\n",
      " \n",
      "Latex Code Form\n",
      "a_n =\\frac{2 \\left(-1\\right)^{n} a \\sinh{\\left (\\pi a \\right )}}{\\pi \\left(a^{2} + n^{2}\\right)}\n",
      "b_n =- \\frac{2 \\left(-1\\right)^{n} n \\sinh{\\left (\\pi a \\right )}}{\\pi \\left(a^{2} + n^{2}\\right)}\n",
      " \n",
      "Latex Form\n"
     ]
    },
    {
     "data": {
      "text/latex": [
       "$\\displaystyle a_n =\\frac{2 \\left(-1\\right)^{n} a \\sinh{\\left (\\pi a \\right )}}{\\pi \\left(a^{2} + n^{2}\\right)}$"
      ],
      "text/plain": [
       "<IPython.core.display.Math object>"
      ]
     },
     "metadata": {},
     "output_type": "display_data"
    },
    {
     "data": {
      "text/latex": [
       "$\\displaystyle b_n =- \\frac{2 \\left(-1\\right)^{n} n \\sinh{\\left (\\pi a \\right )}}{\\pi \\left(a^{2} + n^{2}\\right)}$"
      ],
      "text/plain": [
       "<IPython.core.display.Math object>"
      ]
     },
     "metadata": {},
     "output_type": "display_data"
    },
    {
     "name": "stdout",
     "output_type": "stream",
     "text": [
      " \n",
      "Solution\n"
     ]
    },
    {
     "data": {
      "text/latex": [
       "$\\displaystyle s(x) = a_0/\\pi + \\sum_{n=0}^{n} \\frac{2 \\left(-1\\right)^{n} a \\sinh{\\left (\\pi a \\right )}}{\\pi \\left(a^{2} + n^{2}\\right)}cos(nx) +- \\frac{2 \\left(-1\\right)^{n} n \\sinh{\\left (\\pi a \\right )}}{\\pi \\left(a^{2} + n^{2}\\right)}sin(nx)$"
      ],
      "text/plain": [
       "<IPython.core.display.Math object>"
      ]
     },
     "metadata": {},
     "output_type": "display_data"
    }
   ],
   "source": [
    "##### Problem 1.c\n",
    "\n",
    "# periodic function which we compute the Fourier Series\n",
    "def f(x):\n",
    "    a  = 1.3\n",
    "    fx = np.cos(a*x)\n",
    "    return fx\n",
    "\n",
    "# the start and end points for the periodic function\n",
    "# dx is the number of points for numerical integration\n",
    "x0 = -PI\n",
    "x1 =  PI\n",
    "dx = 100\n",
    "\n",
    "L =  x1-x0\n",
    "\n",
    "\n",
    "# The range of values along the 'x' axis to plt and number \n",
    "# of points dt.\n",
    "t0 = -1.0*PI\n",
    "tn =  4.0*PI\n",
    "dt =  100\n",
    "    \n",
    "# plot a fourier sieries with a general nMax with slide bar\n",
    "FourierSeries(f,x0,x1,dx,t0,tn,dt)\n",
    "\n",
    "# analytical solution for the n = 2 -> 7\n",
    "a = symbols('a', integer=False, positive=True)\n",
    "x = Symbol('x')\n",
    "FindCoef(exp(x*a),-pi,pi)\n"
   ]
  },
  {
   "cell_type": "markdown",
   "metadata": {
    "collapsed": true
   },
   "source": []
  }
 ],
 "metadata": {
  "kernelspec": {
   "display_name": "Python 3",
   "language": "python",
   "name": "python3"
  },
  "language_info": {
   "codemirror_mode": {
    "name": "ipython",
    "version": 3
   },
   "file_extension": ".py",
   "mimetype": "text/x-python",
   "name": "python",
   "nbconvert_exporter": "python",
   "pygments_lexer": "ipython3",
   "version": "3.7.1"
  }
 },
 "nbformat": 4,
 "nbformat_minor": 2
}

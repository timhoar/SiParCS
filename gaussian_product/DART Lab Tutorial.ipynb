{
 "cells": [
  {
   "cell_type": "markdown",
   "metadata": {
    "slideshow": {
     "slide_type": "slide"
    }
   },
   "source": [
    "## Dart Lab Tutorial"
   ]
  },
  {
   "cell_type": "markdown",
   "metadata": {
    "slideshow": {
     "slide_type": "slide"
    }
   },
   "source": [
    "#### Starting interactive cells\n",
    "We will use the cell below as a header file essentially.  We will import all of the nessecary packages from this cell, and use them throughout the rest of the document. Throughout this document, we will be using code from previous cells, and gradually building off of it to add more features. "
   ]
  },
  {
   "cell_type": "code",
   "execution_count": 152,
   "metadata": {
    "slideshow": {
     "slide_type": "subslide"
    }
   },
   "outputs": [],
   "source": [
    "import math\n",
    "import numpy as np\n",
    "import scipy as sp\n",
    "import matplotlib.pyplot as plt\n",
    "import math\n",
    "import ipywidgets as widgets\n",
    "from pylab import *\n",
    "from ipywidgets import interact, interactive, fixed, interact_manual\n",
    "from IPython.display import display, Math, Latex\n",
    "from scipy.integrate import quad\n",
    "from scipy import integrate\n",
    "from sympy import *\n",
    "from IPython.display import HTML\n",
    "import matplotlib.ticker as plticker\n",
    "import sympy as sp\n",
    "from scipy.integrate import quad\n",
    "PI = np.pi\n",
    "\n",
    "#Basic Gaussian function returning y value\n",
    "def gaussian(x, mu, sigma):\n",
    "    x=np.linspace(-10, 10, num=1000)\n",
    "    y=1/(sigma*np.sqrt(2*np.pi))*np.exp((-1/2)*((x-mu)/sigma)**2)\n",
    "    return y\n",
    "\n",
    "# Product of Gaussians returning the values new_mean and new_sd\n",
    "def product_of_gaussians(mean_1, SD_1, mean_2, SD_2):\n",
    "    var_1=SD_1**2\n",
    "    var_2=SD_2**2\n",
    "    new_var = 1.0 / ((1.0 / var_1) + (1.0 / var_2))\n",
    "    new_sd = np.sqrt(new_var)\n",
    "    new_mean = new_var * ((mean_1 / var_1) + (mean_2 / var_2))\n",
    "    return new_mean, new_sd"
   ]
  },
  {
   "cell_type": "code",
   "execution_count": 79,
   "metadata": {},
   "outputs": [
    {
     "data": {
      "text/html": [
       "<script>\n",
       "code_show=true; \n",
       "function code_toggle() {\n",
       " if (code_show){\n",
       " $('div.input').hide();\n",
       " } else {\n",
       " $('div.input').show();\n",
       " }\n",
       " code_show = !code_show\n",
       "} \n",
       "$( document ).ready(code_toggle);\n",
       "</script>\n",
       "The raw code for this IPython notebook is by default hidden for easier reading.\n",
       "To toggle on/off the raw code, click <a href=\"javascript:code_toggle()\">here</a>."
      ],
      "text/plain": [
       "<IPython.core.display.HTML object>"
      ]
     },
     "execution_count": 79,
     "metadata": {},
     "output_type": "execute_result"
    }
   ],
   "source": [
    "HTML('''<script>\n",
    "code_show=true; \n",
    "function code_toggle() {\n",
    " if (code_show){\n",
    " $('div.input').hide();\n",
    " } else {\n",
    " $('div.input').show();\n",
    " }\n",
    " code_show = !code_show\n",
    "} \n",
    "$( document ).ready(code_toggle);\n",
    "</script>\n",
    "The raw code for this IPython notebook is by default hidden for easier reading.\n",
    "To toggle on/off the raw code, click <a href=\"javascript:code_toggle()\">here</a>.''')"
   ]
  },
  {
   "cell_type": "markdown",
   "metadata": {
    "slideshow": {
     "slide_type": "slide"
    }
   },
   "source": [
    "### Example: Estimating the Temperature Outside pt. 1\n",
    "The cell below is going to be our first interactive cell.  In this cell, we are able to adjust the silders to change our temperature value, and also change the size of our icon.  The purpose of this is to introduce the idea of **interactive cells**, and show some of the basic features that they include."
   ]
  },
  {
   "cell_type": "code",
   "execution_count": 98,
   "metadata": {
    "slideshow": {
     "slide_type": "subslide"
    }
   },
   "outputs": [
    {
     "data": {
      "application/vnd.jupyter.widget-view+json": {
       "model_id": "27b4be1c71c040b6b97b43dbe8b0cfe3",
       "version_major": 2,
       "version_minor": 0
      },
      "text/plain": [
       "interactive(children=(FloatSlider(value=1.0, description='temp', max=4.0, min=-4.0), FloatSlider(value=300.0, …"
      ]
     },
     "metadata": {},
     "output_type": "display_data"
    },
    {
     "data": {
      "text/plain": [
       "<function __main__.f(temp, y, icon_size)>"
      ]
     },
     "execution_count": 98,
     "metadata": {},
     "output_type": "execute_result"
    }
   ],
   "source": [
    "def f(temp, y, icon_size):\n",
    "    plt.axis([-4, 4, -.1, .2])\n",
    "    plt.xlabel('Temperature')\n",
    "    plt.ylabel('Probability')\n",
    "    plt.title('An observation has a value (*),')\n",
    "    plt.yticks([0, 0.2, 0.4, 0.6])\n",
    "    plt.xticks([-4, -2, 0, 2, 4])\n",
    "    plt.grid(True)\n",
    "    plt.scatter([temp], [y], marker='*', s=icon_size, c='r')\n",
    "    plt.show()\n",
    "   \n",
    "set_temp = widgets.FloatSlider(value=1.0, min=-4.0, max=4.0)\n",
    "seticon_size = widgets.FloatSlider(value=300, min=10, max= 1000)\n",
    "\n",
    "interact(f, temp=(set_temp), y=fixed(0), icon_size=(seticon_size))\n",
    "\n"
   ]
  },
  {
   "cell_type": "markdown",
   "metadata": {
    "slideshow": {
     "slide_type": "slide"
    }
   },
   "source": [
    "### Estimating the Temperature outside pt. 2\n",
    "Here in the cell below, we have a similar graph as before, but added an error distribution (blue curve) that is associated with the instrument.   This **gaussian function** can be used as a basis for future graphs, and will be called upon multiple times in the rest of this document. Instrument builder says thermometer is unbiased with =/- 0.8°C gaussian error."
   ]
  },
  {
   "cell_type": "markdown",
   "metadata": {
    "slideshow": {
     "slide_type": "subslide"
    }
   },
   "source": [
    "The red plot is $P(\\frac{T}{T_0})$; probability of temperature *given* that $T_0$ was observed."
   ]
  },
  {
   "cell_type": "code",
   "execution_count": 97,
   "metadata": {
    "slideshow": {
     "slide_type": "subslide"
    }
   },
   "outputs": [
    {
     "data": {
      "application/vnd.jupyter.widget-view+json": {
       "model_id": "49fc84f028c046ba88f5eb1e94dc0c82",
       "version_major": 2,
       "version_minor": 0
      },
      "text/plain": [
       "interactive(children=(FloatSlider(value=1.0, description='obs', max=4.0, min=-4.0), FloatSlider(value=0.8, des…"
      ]
     },
     "metadata": {},
     "output_type": "display_data"
    },
    {
     "data": {
      "text/plain": [
       "<function __main__.gaussian(obs, obs_error_SD)>"
      ]
     },
     "execution_count": 97,
     "metadata": {},
     "output_type": "execute_result"
    }
   ],
   "source": [
    "# Base gaussian function\n",
    "def gaussian(obs, obs_error_SD):\n",
    "    x=np.linspace(-10, 10, num=1000)\n",
    "    y=1/(obs_error_SD*np.sqrt(2*np.pi))*np.exp((-1/2)*((x-obs)/obs_error_SD)**2)\n",
    "    plt.plot(x,y, c='r')\n",
    "    plt.scatter(obs, 0, c='r')\n",
    "    plt.axis([-4, 4, -.1, .2])\n",
    "    plt.xlabel('Temperature')\n",
    "    plt.ylabel('Probability')\n",
    "    plt.title('An observation has a value (*),')\n",
    "    plt.yticks([0, 0.2, 0.4, 0.6])\n",
    "    plt.xticks([-4, -2, 0, 2, 4])\n",
    "    plt.grid(True)\n",
    "    plt.show()\n",
    "\n",
    "setobs = widgets.FloatSlider(value=1.0, min=-4.0, max=4.0)\n",
    "obs_error_SD = widgets.FloatSlider(value=0.80, min=0.1, max=10)\n",
    "\n",
    "interact(gaussian, obs=(setobs), obs_error_SD=(setobs_error_SD))\n",
    "    "
   ]
  },
  {
   "cell_type": "markdown",
   "metadata": {
    "slideshow": {
     "slide_type": "slide"
    }
   },
   "source": [
    "### We also have a prior estimate of temperature.\n",
    "**Any future lines using the color green will be refering to prior PDF.**"
   ]
  },
  {
   "cell_type": "code",
   "execution_count": 104,
   "metadata": {
    "slideshow": {
     "slide_type": "subslide"
    }
   },
   "outputs": [
    {
     "data": {
      "application/vnd.jupyter.widget-view+json": {
       "model_id": "dec7f00b0ea2496da8be0a0998537544",
       "version_major": 2,
       "version_minor": 0
      },
      "text/plain": [
       "interactive(children=(FloatSlider(value=-1.0, description='obs', max=4.0, min=-4.0), FloatSlider(value=1.3, de…"
      ]
     },
     "metadata": {},
     "output_type": "display_data"
    },
    {
     "data": {
      "text/plain": [
       "<function __main__.gaussian(obs, obs_error_SD)>"
      ]
     },
     "execution_count": 104,
     "metadata": {},
     "output_type": "execute_result"
    }
   ],
   "source": [
    "# Base gaussian function\n",
    "def gaussian(obs, obs_error_SD):\n",
    "    x=np.linspace(-10, 10, num=1000)\n",
    "    y=1/(obs_error_SD*np.sqrt(2*np.pi))*np.exp((-1/2)*((x-obs)/obs_error_SD)**2)\n",
    "    plt.plot(x,y, c='g')\n",
    "    plt.axis([-4, 4, -.1, .2])\n",
    "    plt.xlabel('Temperature')\n",
    "    plt.ylabel('Probability')\n",
    "    plt.title('Prior Estimate of Temperature')\n",
    "    plt.yticks([0, 0.2, 0.4, 0.6])\n",
    "    plt.xticks([-4, -2, 0, 2, 4])\n",
    "    plt.grid(True)\n",
    "    plt.text(-3.5, .25, r'Prior PDF')\n",
    "    plt.show()\n",
    "\n",
    "setobs = widgets.FloatSlider(value=-1.0, min=-4.0, max=4.0)\n",
    "setobs_error_SD = widgets.FloatSlider(value=1.30, min=0.1, max=10)   \n",
    "\n",
    "interact(gaussian, obs=(setobs), obs_error_SD=(setobs_error_SD))\n",
    "    "
   ]
  },
  {
   "cell_type": "markdown",
   "metadata": {
    "slideshow": {
     "slide_type": "subslide"
    }
   },
   "source": [
    "The green curve is $P(\\frac{T}{T_0})$;\n",
    "probability of temperature given all available **prior** information $C$."
   ]
  },
  {
   "cell_type": "markdown",
   "metadata": {
    "slideshow": {
     "slide_type": "subslide"
    }
   },
   "source": [
    "Prior information $C$ can include:\n",
    "\n",
    "1. Observations of things besides $T$;\n",
    "2. Model forecast made using observations at earlier times;\n",
    "3. *A priori* physical constraints $(T > -273.15°C)$;\n",
    "4. Climatological constraints $(-30°C < T < 40°C)$."
   ]
  },
  {
   "cell_type": "markdown",
   "metadata": {
    "slideshow": {
     "slide_type": "slide"
    }
   },
   "source": [
    "### Combining the Prior Estimate and Observation\n",
    "#### Bayes Theorem: \n",
    "$$P(T|T_0,C)=\\frac{P(T_0|T,C)P(T|C)}{P(T_0|C)}$$\n",
    "\n",
    "The LHS represents the **Posterior**: Probability of $T$ given observations and Prior.  Also called **update** or **analysis**.\n",
    "\n",
    "While the RHS represents the **likelihood**: Probability that $T_0$ is observed if $T$ is a true value and given prior information $C$.\n",
    "\n",
    "Rewrite Bayes as:\n",
    "\n",
    "$$\\frac{P(T_0|T,C)P(T|C)}{P(T_0|C)}$$\n",
    "\n",
    "$$\\frac{P(T_0|T,C)P(T|C)}{\\int P(T_0|x)P(x|C)dx}$$\n",
    "\n",
    "$$\\frac{\\color{red}{P(T_0|T,C)}\\color{green}{P(T|C)}}{normalization}$$\n",
    "\n",
    "Denominator normalizes so Posterior is PDF."
   ]
  },
  {
   "cell_type": "code",
   "execution_count": 105,
   "metadata": {
    "slideshow": {
     "slide_type": "slide"
    }
   },
   "outputs": [
    {
     "data": {
      "application/vnd.jupyter.widget-view+json": {
       "model_id": "f1abb20d46c440e39d7870eed0b78095",
       "version_major": 2,
       "version_minor": 0
      },
      "text/plain": [
       "interactive(children=(FloatSlider(value=-1.0, description='obs', max=4.0, min=-4.0), FloatSlider(value=1.3, de…"
      ]
     },
     "metadata": {},
     "output_type": "display_data"
    },
    {
     "data": {
      "text/plain": [
       "<function __main__.gaussian(obs, obs_error_SD)>"
      ]
     },
     "execution_count": 105,
     "metadata": {},
     "output_type": "execute_result"
    }
   ],
   "source": [
    "# Base gaussian function\n",
    "def gaussian(obs, obs_error_SD):\n",
    "    x=np.linspace(-10, 10, num=1000)\n",
    "    y=1/(obs_error_SD*np.sqrt(2*np.pi))*np.exp((-1/2)*((x-obs)/obs_error_SD)**2)\n",
    "    plt.plot(x,y, c='g')\n",
    "    plt.axis([-4, 4, -.1, .2])\n",
    "    plt.xlabel('Temperature')\n",
    "    plt.ylabel('Probability')\n",
    "    plt.title('Prior Estimate of Temperature')\n",
    "    plt.yticks([0, 0.2, 0.4, 0.6])\n",
    "    plt.xticks([-4, -2, 0, 2, 4])\n",
    "    plt.grid(True)\n",
    "    plt.text(-3.5, .25, r'Prior PDF')\n",
    "    plt.show()\n",
    "\n",
    "setobs = widgets.FloatSlider(value=-1.0, min=-4.0, max=4.0)\n",
    "setobs_error_SD = widgets.FloatSlider(value=1.30, min=0.1, max=10)   \n",
    "\n",
    "interact(gaussian, obs=(setobs), obs_error_SD=(setobs_error_SD))\n",
    "    "
   ]
  },
  {
   "cell_type": "code",
   "execution_count": 149,
   "metadata": {
    "slideshow": {
     "slide_type": "slide"
    }
   },
   "outputs": [
    {
     "data": {
      "application/vnd.jupyter.widget-view+json": {
       "model_id": "c633a1586d5d46b48b33ffa3e13d68b8",
       "version_major": 2,
       "version_minor": 0
      },
      "text/plain": [
       "interactive(children=(FloatSlider(value=1.0, description='obs', max=4.0, min=-4.0), FloatSlider(value=0.8, des…"
      ]
     },
     "metadata": {},
     "output_type": "display_data"
    },
    {
     "data": {
      "text/plain": [
       "<function __main__.plot2gaussians(obs, obs_error_SD, prior_mean, prior_SD)>"
      ]
     },
     "execution_count": 149,
     "metadata": {},
     "output_type": "execute_result"
    }
   ],
   "source": [
    "\n",
    "    \n",
    "def plot2gaussians(obs, obs_error_SD, prior_mean, prior_SD):\n",
    "    x=np.linspace(-10, 10, num=1000)\n",
    "    likelihood=gaussian(x, obs, obs_error_SD)\n",
    "    prior=gaussian(x, prior_mean, prior_SD)\n",
    "    \n",
    "    plt.axis([-4, 4, -.1, .2])\n",
    "    plt.xlabel('Temperature')\n",
    "    plt.ylabel('Probability')\n",
    "    plt.title('Prior Estimate and Observation')\n",
    "    plt.text(2.1, .56, 'Obs. Likelihood')\n",
    "    plt.yticks([0, 0.2, 0.4, 0.6])\n",
    "    plt.xticks([-4, -2, 0, 2, 4])\n",
    "    plt.grid(True)\n",
    "    \n",
    "    plt.plot(x, likelihood, c='r')\n",
    "    plt.plot(x, prior, c='g')\n",
    "    \n",
    "\n",
    "    plt.show()\n",
    "\n",
    "setobs = widgets.FloatSlider(value=1.0, min=-4.0, max=4.0)\n",
    "setobs_error_SD = widgets.FloatSlider(value=0.80, min=0.1, max=10.0)\n",
    "setprior_mean = widgets.FloatSlider(value=-1.0, min=-4.0, max=4.0)\n",
    "setprior_SD = widgets.FloatSlider(value=1.10, min=0.1, max=10.0)\n",
    "\n",
    "interact(plot2gaussians, obs=(setobs), obs_error_SD=(setobs_error_SD),\\\n",
    "         prior_mean=(setprior_mean), prior_SD=(setprior_SD) )"
   ]
  },
  {
   "cell_type": "markdown",
   "metadata": {
    "slideshow": {
     "slide_type": "slide"
    }
   },
   "source": [
    "$$P(T|T_0,C)=\\frac{\\color{red}{P(T_0|T,C)}\\color{green}{P(T|C)}}{normalization}$$"
   ]
  },
  {
   "cell_type": "code",
   "execution_count": 150,
   "metadata": {
    "slideshow": {
     "slide_type": "subslide"
    }
   },
   "outputs": [
    {
     "data": {
      "application/vnd.jupyter.widget-view+json": {
       "model_id": "bf7c9aeb6c594e28936dad6d6e052482",
       "version_major": 2,
       "version_minor": 0
      },
      "text/plain": [
       "interactive(children=(FloatSlider(value=1.0, description='obs', max=4.0, min=-4.0), FloatSlider(value=0.8, des…"
      ]
     },
     "metadata": {},
     "output_type": "display_data"
    },
    {
     "data": {
      "text/plain": [
       "<function __main__.plot2gaussians(obs, obs_error_SD, prior_mean, prior_SD)>"
      ]
     },
     "execution_count": 150,
     "metadata": {},
     "output_type": "execute_result"
    }
   ],
   "source": [
    "def plot2gaussians(obs, obs_error_SD, prior_mean, prior_SD):\n",
    "    x=np.linspace(-10, 10, num=1000)\n",
    "    likelihood=gaussian(x, obs, obs_error_SD)\n",
    "    prior=gaussian(x, prior_mean, prior_SD)\n",
    "    numerator=(prior*likelihood)\n",
    "    \n",
    "    plt.axis([-4, 4, -.1, .2])\n",
    "    plt.xlabel('Temperature')\n",
    "    plt.ylabel('Probability')\n",
    "    plt.title('Prior Estimate and Observation')\n",
    "    plt.yticks([0, 0.2, 0.4, 0.6])\n",
    "    plt.xticks([-4, -2, 0, 2, 4])\n",
    "    plt.grid(True)\n",
    "    \n",
    "    plt.plot(x, likelihood, c='r')\n",
    "    plt.plot(x, prior, c='g')\n",
    "    plt.plot(x, numerator, c='k')\n",
    "    \n",
    "    plt.show()\n",
    "\n",
    "setobs = widgets.FloatSlider(value=1.0, min=-4.0, max=4.0)\n",
    "setobs_error_SD = widgets.FloatSlider(value=0.80, min=0.1, max=10.0)\n",
    "setprior_mean = widgets.FloatSlider(value=-1.0, min=-4.0, max=4.0)\n",
    "setprior_SD = widgets.FloatSlider(value=1.10, min=0.1, max=10.0)\n",
    "\n",
    "interact(plot2gaussians, obs=(setobs), obs_error_SD=(setobs_error_SD),\\\n",
    "         prior_mean=(setprior_mean), prior_SD=(setprior_SD) )"
   ]
  },
  {
   "cell_type": "markdown",
   "metadata": {
    "slideshow": {
     "slide_type": "slide"
    }
   },
   "source": [
    "$$P(T|T_0,C)=\\frac{\\color{red}{P(T_0|T,C)}\\color{green}{P(T|C)}}{\\color{purple}{normalization}}$$"
   ]
  },
  {
   "cell_type": "code",
   "execution_count": 151,
   "metadata": {},
   "outputs": [
    {
     "data": {
      "application/vnd.jupyter.widget-view+json": {
       "model_id": "eb73b80cb87f4b13b14a12ad73769b2b",
       "version_major": 2,
       "version_minor": 0
      },
      "text/plain": [
       "interactive(children=(FloatSlider(value=1.0, description='obs', max=4.0, min=-4.0), FloatSlider(value=0.8, des…"
      ]
     },
     "metadata": {},
     "output_type": "display_data"
    },
    {
     "data": {
      "text/plain": [
       "<function __main__.plot2gaussians(obs, obs_error_SD, prior_mean, prior_SD)>"
      ]
     },
     "execution_count": 151,
     "metadata": {},
     "output_type": "execute_result"
    }
   ],
   "source": [
    "def plot2gaussians(obs, obs_error_SD, prior_mean, prior_SD):\n",
    "    x=np.linspace(-10, 10, num=1000)\n",
    "    likelihood=gaussian(x, obs, obs_error_SD)\n",
    "    prior=gaussian(x, prior_mean, prior_SD)\n",
    "    numerator=(prior*likelihood)\n",
    "    \n",
    "    plt.axis([-4, 4, -.1, .2])\n",
    "    plt.xlabel('Temperature')\n",
    "    plt.ylabel('Probability')\n",
    "    plt.title('Prior Estimate and Observation')\n",
    "    plt.text(-2.1, .56, 'Area Under Product is Denominator')\n",
    "    plt.yticks([0, 0.2, 0.4, 0.6])\n",
    "    plt.xticks([-4, -2, 0, 2, 4])\n",
    "    plt.grid(True)\n",
    "    \n",
    "    plt.plot(x, likelihood, c='r')\n",
    "    plt.plot(x, prior, c='g')\n",
    "    plt.plot(x, numerator, c='k')\n",
    "    fill_between(x, numerator, y2=0, facecolor='purple')\n",
    "    \n",
    "    plt.show()\n",
    "\n",
    "setobs = widgets.FloatSlider(value=1.0, min=-4.0, max=4.0)\n",
    "setobs_error_SD = widgets.FloatSlider(value=0.80, min=0.1, max=10.0)\n",
    "setprior_mean = widgets.FloatSlider(value=-1.0, min=-4.0, max=4.0)\n",
    "setprior_SD = widgets.FloatSlider(value=1.10, min=0.1, max=10.0)\n",
    "\n",
    "interact(plot2gaussians, obs=(setobs), obs_error_SD=(setobs_error_SD),\\\n",
    "         prior_mean=(setprior_mean), prior_SD=(setprior_SD) )\n"
   ]
  },
  {
   "cell_type": "markdown",
   "metadata": {},
   "source": [
    "$$\\color{blue}{P(T|T_0,C)}=\\frac{\\color{red}{P(T_0|T,C)}\\color{green}{P(T|C)}}{\\color{purple}{normalization}}$$"
   ]
  },
  {
   "cell_type": "code",
   "execution_count": 77,
   "metadata": {},
   "outputs": [
    {
     "data": {
      "application/vnd.jupyter.widget-view+json": {
       "model_id": "c5d7a7b047b3409f9c16a0195cd4ddf4",
       "version_major": 2,
       "version_minor": 0
      },
      "text/plain": [
       "interactive(children=(FloatSlider(value=1.0, description='obs', max=4.0, min=-4.0), FloatSlider(value=0.8, des…"
      ]
     },
     "metadata": {},
     "output_type": "display_data"
    },
    {
     "data": {
      "text/plain": [
       "<function __main__.plot2gaussians(obs, obs_error_SD, prior_mean, prior_SD)>"
      ]
     },
     "execution_count": 77,
     "metadata": {},
     "output_type": "execute_result"
    }
   ],
   "source": [
    "def plot2gaussians(obs, obs_error_SD, prior_mean, prior_SD):\n",
    "    x=np.linspace(-10, 10, num=1000)\n",
    "    likelihood=gaussian(x, obs, obs_error_SD)\n",
    "    prior=gaussian(x, prior_mean, prior_SD)\n",
    "    numerator=(prior*likelihood)\n",
    "    weight=(1 / (np.sqrt(2 * np.pi) * np.sqrt(prior_SD**2 + obs_error_SD**2))\\\n",
    "            * np.exp(-0.5 * obs - prior_mean)**2 / ((prior_SD**2) + (obs_error_SD**2)))\n",
    "    post_PDF=(numerator/weight)\n",
    "    \n",
    "    plt.axis([-4, 4, -.1, .2])\n",
    "    plt.xlabel('Temperature')\n",
    "    plt.ylabel('Probability')\n",
    "    plt.title('Prior Estimate and Observation')\n",
    "    plt.text(-2.1, .56, 'Posterior PDF')\n",
    "    plt.yticks([0, 0.2, 0.4, 0.6])\n",
    "    plt.xticks([-4, -2, 0, 2, 4])\n",
    "    plt.grid(True)\n",
    "    \n",
    "    plt.plot(x, likelihood, c='r')\n",
    "    plt.plot(x, prior, c='g')\n",
    "    plt.plot(x, numerator, c='k')\n",
    "    plt.plot(x, post_PDF, c='b')\n",
    "    fill_between(x, numerator, y2=0, facecolor='purple')\n",
    "    \n",
    "    plt.show()\n",
    "\n",
    "setobs = widgets.FloatSlider(value=1.0, min=-4.0, max=4.0)\n",
    "setobs_error_SD = widgets.FloatSlider(value=0.80, min=0.1, max=10.0)\n",
    "setprior_mean = widgets.FloatSlider(value=-1.0, min=-4.0, max=4.0)\n",
    "setprior_SD = widgets.FloatSlider(value=1.10, min=0.1, max=10.0)\n",
    "\n",
    "interact(plot2gaussians, obs=(setobs), obs_error_SD=(setobs_error_SD),\\\n",
    "         prior_mean=(setprior_mean), prior_SD=(setprior_SD) )"
   ]
  },
  {
   "cell_type": "markdown",
   "metadata": {},
   "source": [
    "### Consistent Color Scheme Throughout Tutorial\n",
    "$$\\color{green}{\\textrm{Green}=\\textrm{Prior}}$$\n",
    "$$\\color{red}{\\textrm{Red}=\\textrm{Observation}}$$\n",
    "$$\\color{blue}{\\textrm{Blue}=\\textrm{Posterior}}$$\n",
    "$$\\color{black}{\\textrm{Black}=\\textrm{Truth}}$$\n",
    "$$\\textrm{(truth available only for 'perfect model' examples)}$$\n",
    "$$\\color{blue}{P(T|T_0,C)}=\\frac{\\color{red}{P(T_0|T,C)}\\color{green}{P(T|C)}}{\\color{black}{normalization}}$$\n",
    "$$\\textrm{Generally no analytic solution for Posterior.}$$"
   ]
  },
  {
   "cell_type": "code",
   "execution_count": 158,
   "metadata": {},
   "outputs": [
    {
     "data": {
      "application/vnd.jupyter.widget-view+json": {
       "model_id": "854ef25f4e114ae08ef29c03b7850aa1",
       "version_major": 2,
       "version_minor": 0
      },
      "text/plain": [
       "interactive(children=(FloatSlider(value=1.0, description='obs', max=4.0, min=-4.0), FloatSlider(value=0.8, des…"
      ]
     },
     "metadata": {},
     "output_type": "display_data"
    },
    {
     "data": {
      "text/plain": [
       "<function __main__.plot2gaussians(obs, obs_error_SD, prior_mean, prior_SD)>"
      ]
     },
     "execution_count": 158,
     "metadata": {},
     "output_type": "execute_result"
    }
   ],
   "source": [
    "def plot2gaussians(obs, obs_error_SD, prior_mean, prior_SD):\n",
    "    x=np.linspace(-4, 4, num=1000)\n",
    "    likelihood=gaussian(x, obs, obs_error_SD)\n",
    "    prior=gaussian(x, prior_mean, prior_SD)\n",
    "    post_mean, post_sd = product_of_gaussians(prior_mean, prior_SD, obs, obs_error_SD)\n",
    "    post=gaussian(x, post_mean, post_sd)\n",
    "    numerator=(prior*likelihood)\n",
    "    #plt.axis([-4, 4,])\n",
    "    plt.xlabel('Temperature')\n",
    "    plt.ylabel('Probability')\n",
    "    plt.title('Prior Estimate and Observation')\n",
    "    plt.text(-2.1, .56, 'Posterior PDF')\n",
    "    #plt.yticks([0, 0.2, 0.4, 0.6])\n",
    "    plt.xticks([-4, -2, 0, 2, 4])\n",
    "    plt.grid(True)\n",
    "    \n",
    "    plt.plot(x, likelihood, c='r')\n",
    "    plt.plot(x, prior, c='g')\n",
    "    plt.plot(x, numerator, c='k')\n",
    "    #plt.plot(x, post_PDF, c='b')\n",
    "    plt.plot(x, post, c='b')\n",
    "    fill_between(x, numerator, y2=0, facecolor='purple')\n",
    "    \n",
    "    plt.show()\n",
    "\n",
    "setobs = widgets.FloatSlider(value=1.0, min=-4.0, max=4.0)\n",
    "setobs_error_SD = widgets.FloatSlider(value=0.80, min=0.1, max=10.0)\n",
    "setprior_mean = widgets.FloatSlider(value=-1.0, min=-4.0, max=4.0)\n",
    "setprior_SD = widgets.FloatSlider(value=1.10, min=0.1, max=10.0)\n",
    "\n",
    "interact(plot2gaussians, obs=(setobs), obs_error_SD=(setobs_error_SD),\\\n",
    "         prior_mean=(setprior_mean), prior_SD=(setprior_SD) )"
   ]
  },
  {
   "cell_type": "markdown",
   "metadata": {},
   "source": [
    "$$\\color{blue}{P(T|T_0,C)}=\\frac{\\color{red}{P(T_0|T,C)}\\color{green}{P(T|C)}}{\\color{black}{normalization}}$$\n",
    "$$\\textrm{Gaussian Prior and Likelihood -> Gaussian Posterior}$$"
   ]
  },
  {
   "cell_type": "code",
   "execution_count": 157,
   "metadata": {},
   "outputs": [
    {
     "data": {
      "application/vnd.jupyter.widget-view+json": {
       "model_id": "c2a1652d434d4987acd1f05bd30254b2",
       "version_major": 2,
       "version_minor": 0
      },
      "text/plain": [
       "interactive(children=(FloatSlider(value=1.0, description='obs', max=4.0, min=-4.0), FloatSlider(value=0.8, des…"
      ]
     },
     "metadata": {},
     "output_type": "display_data"
    },
    {
     "data": {
      "text/plain": [
       "<function __main__.plot2gaussians(obs, obs_error_SD, prior_mean, prior_SD)>"
      ]
     },
     "execution_count": 157,
     "metadata": {},
     "output_type": "execute_result"
    }
   ],
   "source": [
    "def plot2gaussians(obs, obs_error_SD, prior_mean, prior_SD):\n",
    "    x=np.linspace(-4, 4, num=1000)\n",
    "    likelihood=gaussian(x, obs, obs_error_SD)\n",
    "    prior=gaussian(x, prior_mean, prior_SD)\n",
    "    post_mean, post_sd = product_of_gaussians(prior_mean, prior_SD, obs, obs_error_SD)\n",
    "    post=gaussian(x, post_mean, post_sd)\n",
    "    numerator=(prior*likelihood)\n",
    "    #plt.axis([-4, 4,])\n",
    "    plt.xlabel('Temperature')\n",
    "    plt.ylabel('Probability')\n",
    "    plt.title('Prior Estimate and Observation')\n",
    "    plt.text(-2.1, .56, 'Posterior PDF')\n",
    "    #plt.yticks([0, 0.2, 0.4, 0.6])\n",
    "    plt.xticks([-4, -2, 0, 2, 4])\n",
    "    plt.grid(True)\n",
    "    \n",
    "    plt.plot(x, likelihood, c='r')\n",
    "    plt.plot(x, prior, c='g')\n",
    "    plt.plot(x, numerator, c='k')\n",
    "    #plt.plot(x, post_PDF, c='b')\n",
    "    plt.plot(x, post, c='b')\n",
    "    fill_between(x, numerator, y2=0, facecolor='purple')\n",
    "    \n",
    "    plt.show()\n",
    "\n",
    "setobs = widgets.FloatSlider(value=1.0, min=-4.0, max=4.0)\n",
    "setobs_error_SD = widgets.FloatSlider(value=0.80, min=0.1, max=10.0)\n",
    "setprior_mean = widgets.FloatSlider(value=-1.0, min=-4.0, max=4.0)\n",
    "setprior_SD = widgets.FloatSlider(value=1.10, min=0.1, max=10.0)\n",
    "\n",
    "interact(plot2gaussians, obs=(setobs), obs_error_SD=(setobs_error_SD),\\\n",
    "         prior_mean=(setprior_mean), prior_SD=(setprior_SD) )"
   ]
  },
  {
   "cell_type": "code",
   "execution_count": null,
   "metadata": {},
   "outputs": [],
   "source": []
  }
 ],
 "metadata": {
  "celltoolbar": "Slideshow",
  "kernelspec": {
   "display_name": "Python 3",
   "language": "python",
   "name": "python3"
  },
  "language_info": {
   "codemirror_mode": {
    "name": "ipython",
    "version": 3
   },
   "file_extension": ".py",
   "mimetype": "text/x-python",
   "name": "python",
   "nbconvert_exporter": "python",
   "pygments_lexer": "ipython3",
   "version": "3.7.1"
  }
 },
 "nbformat": 4,
 "nbformat_minor": 2
}
